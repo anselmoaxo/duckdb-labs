{
 "cells": [
  {
   "cell_type": "markdown",
   "metadata": {},
   "source": [
    "### Introdução DUCKDB"
   ]
  },
  {
   "cell_type": "code",
   "execution_count": 1,
   "metadata": {},
   "outputs": [
    {
     "name": "stdout",
     "output_type": "stream",
     "text": [
      "Collecting plotly==5.23.0 (from -r requirements.txt (line 1))\n",
      "  Using cached plotly-5.23.0-py3-none-any.whl.metadata (7.3 kB)\n",
      "Requirement already satisfied: psycopg2-binary==2.9.9 in c:\\users\\csouz\\anaconda3\\envs\\duckdb\\lib\\site-packages (from -r requirements.txt (line 2)) (2.9.9)\n",
      "Requirement already satisfied: dbt-duckdb==1.8.2 in c:\\users\\csouz\\anaconda3\\envs\\duckdb\\lib\\site-packages (from -r requirements.txt (line 3)) (1.8.2)\n",
      "Collecting duckdb==1.0.0 (from -r requirements.txt (line 4))\n",
      "  Using cached duckdb-1.0.0-cp312-cp312-win_amd64.whl.metadata (781 bytes)\n",
      "Requirement already satisfied: magic_duckdb==0.1.27 in c:\\users\\csouz\\anaconda3\\envs\\duckdb\\lib\\site-packages (from -r requirements.txt (line 5)) (0.1.27)\n",
      "Requirement already satisfied: seaborn in c:\\users\\csouz\\anaconda3\\envs\\duckdb\\lib\\site-packages (from -r requirements.txt (line 6)) (0.13.2)\n",
      "Requirement already satisfied: streamlit in c:\\users\\csouz\\anaconda3\\envs\\duckdb\\lib\\site-packages (from -r requirements.txt (line 7)) (1.38.0)\n",
      "Requirement already satisfied: plotly.express in c:\\users\\csouz\\anaconda3\\envs\\duckdb\\lib\\site-packages (from -r requirements.txt (line 8)) (0.4.1)\n",
      "Requirement already satisfied: flask in c:\\users\\csouz\\anaconda3\\envs\\duckdb\\lib\\site-packages (from -r requirements.txt (line 9)) (3.0.3)\n"
     ]
    },
    {
     "name": "stderr",
     "output_type": "stream",
     "text": [
      "ERROR: Could not find a version that satisfies the requirement request (from versions: none)\n",
      "ERROR: No matching distribution found for request\n"
     ]
    }
   ],
   "source": [
    "! pip install -r requirements.txt"
   ]
  },
  {
   "cell_type": "code",
   "execution_count": null,
   "metadata": {},
   "outputs": [],
   "source": []
  }
 ],
 "metadata": {
  "kernelspec": {
   "display_name": "duckdb",
   "language": "python",
   "name": "python3"
  },
  "language_info": {
   "codemirror_mode": {
    "name": "ipython",
    "version": 3
   },
   "file_extension": ".py",
   "mimetype": "text/x-python",
   "name": "python",
   "nbconvert_exporter": "python",
   "pygments_lexer": "ipython3",
   "version": "3.12.5"
  }
 },
 "nbformat": 4,
 "nbformat_minor": 2
}
