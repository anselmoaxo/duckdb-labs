{
 "cells": [
  {
   "cell_type": "markdown",
   "metadata": {},
   "source": [
    "### Introdução DUCKDB"
   ]
  },
  {
   "cell_type": "code",
   "execution_count": 1,
   "metadata": {},
   "outputs": [
    {
     "name": "stdout",
     "output_type": "stream",
     "text": [
      "Collecting plotly==5.23.0 (from -r requirements.txt (line 1))\n",
      "  Using cached plotly-5.23.0-py3-none-any.whl.metadata (7.3 kB)\n",
      "Requirement already satisfied: psycopg2-binary==2.9.9 in c:\\users\\csouz\\anaconda3\\envs\\duckdb\\lib\\site-packages (from -r requirements.txt (line 2)) (2.9.9)\n",
      "Requirement already satisfied: dbt-duckdb==1.8.2 in c:\\users\\csouz\\anaconda3\\envs\\duckdb\\lib\\site-packages (from -r requirements.txt (line 3)) (1.8.2)\n",
      "Collecting duckdb==1.0.0 (from -r requirements.txt (line 4))\n",
      "  Using cached duckdb-1.0.0-cp312-cp312-win_amd64.whl.metadata (781 bytes)\n",
      "Requirement already satisfied: magic_duckdb==0.1.27 in c:\\users\\csouz\\anaconda3\\envs\\duckdb\\lib\\site-packages (from -r requirements.txt (line 5)) (0.1.27)\n",
      "Requirement already satisfied: seaborn in c:\\users\\csouz\\anaconda3\\envs\\duckdb\\lib\\site-packages (from -r requirements.txt (line 6)) (0.13.2)\n",
      "Requirement already satisfied: streamlit in c:\\users\\csouz\\anaconda3\\envs\\duckdb\\lib\\site-packages (from -r requirements.txt (line 7)) (1.38.0)\n",
      "Requirement already satisfied: plotly.express in c:\\users\\csouz\\anaconda3\\envs\\duckdb\\lib\\site-packages (from -r requirements.txt (line 8)) (0.4.1)\n",
      "Requirement already satisfied: flask in c:\\users\\csouz\\anaconda3\\envs\\duckdb\\lib\\site-packages (from -r requirements.txt (line 9)) (3.0.3)\n"
     ]
    },
    {
     "name": "stderr",
     "output_type": "stream",
     "text": [
      "ERROR: Could not find a version that satisfies the requirement request (from versions: none)\n",
      "ERROR: No matching distribution found for request\n"
     ]
    }
   ],
   "source": [
    "! pip install -r requirements.txt"
   ]
  },
  {
   "cell_type": "code",
   "execution_count": 2,
   "metadata": {},
   "outputs": [],
   "source": [
    "import duckdb \n",
    "import pandas as pd"
   ]
  },
  {
   "cell_type": "markdown",
   "metadata": {},
   "source": [
    "### CSV em memoria"
   ]
  },
  {
   "cell_type": "code",
   "execution_count": 10,
   "metadata": {},
   "outputs": [
    {
     "name": "stdout",
     "output_type": "stream",
     "text": [
      "┌─────────┬────────────────┬───────┬─────────────────┬───────────────┐\n",
      "│ user_id │      name      │  age  │ purchase_amount │ purchase_date │\n",
      "│  int64  │    varchar     │ int64 │     double      │     date      │\n",
      "├─────────┼────────────────┼───────┼─────────────────┼───────────────┤\n",
      "│     101 │ John Doe       │    28 │          250.75 │ 2024-08-01    │\n",
      "│     102 │ Jane Smith     │    34 │           300.0 │ 2024-08-02    │\n",
      "│     103 │ Alice Johnson  │    23 │           120.5 │ 2024-08-03    │\n",
      "│     104 │ Chris Evans    │    45 │           450.0 │ 2024-08-04    │\n",
      "│     105 │ Emily Davis    │    30 │            80.0 │ 2024-08-05    │\n",
      "│     106 │ Michael Brown  │    40 │          199.99 │ 2024-08-06    │\n",
      "│     107 │ Jessica Taylor │    29 │          349.99 │ 2024-08-07    │\n",
      "│     108 │ Daniel Wilson  │    35 │           220.0 │ 2024-08-08    │\n",
      "│     109 │ Laura Clark    │    27 │          110.75 │ 2024-08-09    │\n",
      "│     110 │ Robert Lewis   │    31 │           500.0 │ 2024-08-10    │\n",
      "├─────────┴────────────────┴───────┴─────────────────┴───────────────┤\n",
      "│ 10 rows                                                  5 columns │\n",
      "└────────────────────────────────────────────────────────────────────┘\n",
      "\n"
     ]
    }
   ],
   "source": [
    "#Conectando ao banco de dados em memória\n",
    "conn = duckdb.connect(database=':memory:')\n",
    "conn.execute(\"CREATE TABLE dados_csv AS Select * From read_csv_auto('data/data.csv')\")\n",
    "\n",
    "resultado_df = conn.sql(\"SELECT * FROM dados_csv limit 10\")\n",
    "print(resultado_df)\n",
    "conn.close()"
   ]
  },
  {
   "cell_type": "markdown",
   "metadata": {},
   "source": [
    "### JSON em Memoria"
   ]
  },
  {
   "cell_type": "code",
   "execution_count": 15,
   "metadata": {},
   "outputs": [
    {
     "name": "stdout",
     "output_type": "stream",
     "text": [
      "┌─────────┬────────────────┬───────┬─────────────────┬───────────────┐\n",
      "│ user_id │      name      │  age  │ purchase_amount │ purchase_date │\n",
      "│  int64  │    varchar     │ int64 │     double      │     date      │\n",
      "├─────────┼────────────────┼───────┼─────────────────┼───────────────┤\n",
      "│     101 │ John Doe       │    28 │          250.75 │ 2024-08-01    │\n",
      "│     102 │ Jane Smith     │    34 │           300.0 │ 2024-08-02    │\n",
      "│     103 │ Alice Johnson  │    23 │           120.5 │ 2024-08-03    │\n",
      "│     104 │ Chris Evans    │    45 │           450.0 │ 2024-08-04    │\n",
      "│     105 │ Emily Davis    │    30 │            80.0 │ 2024-08-05    │\n",
      "│     106 │ Michael Brown  │    40 │          199.99 │ 2024-08-06    │\n",
      "│     107 │ Jessica Taylor │    29 │          349.99 │ 2024-08-07    │\n",
      "│     108 │ Daniel Wilson  │    35 │           220.0 │ 2024-08-08    │\n",
      "│     109 │ Laura Clark    │    27 │          110.75 │ 2024-08-09    │\n",
      "│     110 │ Robert Lewis   │    31 │           500.0 │ 2024-08-10    │\n",
      "├─────────┴────────────────┴───────┴─────────────────┴───────────────┤\n",
      "│ 10 rows                                                  5 columns │\n",
      "└────────────────────────────────────────────────────────────────────┘\n",
      "\n"
     ]
    }
   ],
   "source": [
    "#Conectando ao banco de dados em memória\n",
    "conn = duckdb.connect(database=':memory:')\n",
    "conn.execute(\"CREATE TABLE dados_json AS Select * From read_json_auto('data/data.json')\")\n",
    "\n",
    "resultado_df = conn.sql(\"SELECT * FROM dados_json\")\n",
    "print(resultado_df)\n",
    "conn.close()"
   ]
  },
  {
   "cell_type": "markdown",
   "metadata": {},
   "source": [
    "### Parquet em memoria"
   ]
  },
  {
   "cell_type": "code",
   "execution_count": 17,
   "metadata": {},
   "outputs": [
    {
     "name": "stdout",
     "output_type": "stream",
     "text": [
      "┌─────────┬────────────────┬───────┬─────────────────┬───────────────┐\n",
      "│ user_id │      name      │  age  │ purchase_amount │ purchase_date │\n",
      "│  int64  │    varchar     │ int64 │     double      │    varchar    │\n",
      "├─────────┼────────────────┼───────┼─────────────────┼───────────────┤\n",
      "│     101 │ John Doe       │    28 │          250.75 │ 2024-08-01    │\n",
      "│     102 │ Jane Smith     │    34 │           300.0 │ 2024-08-02    │\n",
      "│     103 │ Alice Johnson  │    23 │           120.5 │ 2024-08-03    │\n",
      "│     104 │ Chris Evans    │    45 │           450.0 │ 2024-08-04    │\n",
      "│     105 │ Emily Davis    │    30 │            80.0 │ 2024-08-05    │\n",
      "│     106 │ Michael Brown  │    40 │          199.99 │ 2024-08-06    │\n",
      "│     107 │ Jessica Taylor │    29 │          349.99 │ 2024-08-07    │\n",
      "│     108 │ Daniel Wilson  │    35 │           220.0 │ 2024-08-08    │\n",
      "│     109 │ Laura Clark    │    27 │          110.75 │ 2024-08-09    │\n",
      "│     110 │ Robert Lewis   │    31 │           500.0 │ 2024-08-10    │\n",
      "├─────────┴────────────────┴───────┴─────────────────┴───────────────┤\n",
      "│ 10 rows                                                  5 columns │\n",
      "└────────────────────────────────────────────────────────────────────┘\n",
      "\n"
     ]
    }
   ],
   "source": [
    "#Conectando ao banco de dados em memória\n",
    "conn = duckdb.connect(database=':memory:')\n",
    "conn.execute(\"CREATE TABLE dados_parquet AS Select * From read_parquet('data/data.parquet')\")\n",
    "\n",
    "resultado_df = conn.sql(\"SELECT * FROM dados_parquet\")\n",
    "print(resultado_df)\n",
    "conn.close()"
   ]
  },
  {
   "cell_type": "code",
   "execution_count": null,
   "metadata": {},
   "outputs": [],
   "source": []
  }
 ],
 "metadata": {
  "kernelspec": {
   "display_name": "duckdb",
   "language": "python",
   "name": "python3"
  },
  "language_info": {
   "codemirror_mode": {
    "name": "ipython",
    "version": 3
   },
   "file_extension": ".py",
   "mimetype": "text/x-python",
   "name": "python",
   "nbconvert_exporter": "python",
   "pygments_lexer": "ipython3",
   "version": "3.12.5"
  }
 },
 "nbformat": 4,
 "nbformat_minor": 2
}
